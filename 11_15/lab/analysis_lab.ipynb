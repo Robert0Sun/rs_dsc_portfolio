{
 "cells": [
  {
   "cell_type": "markdown",
   "metadata": {},
   "source": [
    "## Data Analysis Lab I\n",
    "\n",
    "For this lab, you will continue work on your 4th TLAB. The dataset for this lab is in the `../data/shopping.csv` file. \n",
    "\n",
    "The goals for this process include:\n",
    "\n",
    "* Generate new groups & bins to explore relationships\n",
    "* Generate pivot tables for further analysis \n",
    "* Answer a few business-related questions\n",
    "\n",
    "After you've completed this process, answer the questions underneath `Data Analysis Lab II` in your own words."
   ]
  },
  {
   "cell_type": "code",
   "execution_count": 1,
   "metadata": {},
   "outputs": [],
   "source": [
    "import pandas as pd\n",
    "import numpy as np\n",
    "\n",
    "import matplotlib.pyplot as plt\n",
    "import seaborn as sns"
   ]
  },
  {
   "cell_type": "code",
   "execution_count": 2,
   "metadata": {},
   "outputs": [],
   "source": [
    "# TODO: load `../data/shopping.csv` as a pandas dataframe\n",
    "\n",
    "df = pd.read_csv('../data/shopping.csv')"
   ]
  },
  {
   "cell_type": "code",
   "execution_count": 3,
   "metadata": {},
   "outputs": [
    {
     "data": {
      "text/html": [
       "<div>\n",
       "<style scoped>\n",
       "    .dataframe tbody tr th:only-of-type {\n",
       "        vertical-align: middle;\n",
       "    }\n",
       "\n",
       "    .dataframe tbody tr th {\n",
       "        vertical-align: top;\n",
       "    }\n",
       "\n",
       "    .dataframe thead th {\n",
       "        text-align: right;\n",
       "    }\n",
       "</style>\n",
       "<table border=\"1\" class=\"dataframe\">\n",
       "  <thead>\n",
       "    <tr style=\"text-align: right;\">\n",
       "      <th></th>\n",
       "      <th>Customer ID</th>\n",
       "      <th>Age</th>\n",
       "      <th>Gender</th>\n",
       "      <th>Item Purchased</th>\n",
       "      <th>Purchase Amount (USD)</th>\n",
       "      <th>Location</th>\n",
       "      <th>Size</th>\n",
       "      <th>Color</th>\n",
       "      <th>Season</th>\n",
       "      <th>Review Rating</th>\n",
       "      <th>Shipping Type</th>\n",
       "      <th>Promo Code Used</th>\n",
       "      <th>Previous Purchases</th>\n",
       "      <th>Payment Method</th>\n",
       "      <th>Frequency of Purchases</th>\n",
       "    </tr>\n",
       "  </thead>\n",
       "  <tbody>\n",
       "    <tr>\n",
       "      <th>0</th>\n",
       "      <td>3475</td>\n",
       "      <td>NaN</td>\n",
       "      <td>Male</td>\n",
       "      <td>Jacket</td>\n",
       "      <td>30.904467</td>\n",
       "      <td>Maine</td>\n",
       "      <td>M</td>\n",
       "      <td>Burnt orange</td>\n",
       "      <td>Fall</td>\n",
       "      <td>4.0</td>\n",
       "      <td>Standard</td>\n",
       "      <td>No</td>\n",
       "      <td>0</td>\n",
       "      <td>Credit Card</td>\n",
       "      <td>NaN</td>\n",
       "    </tr>\n",
       "    <tr>\n",
       "      <th>1</th>\n",
       "      <td>3698</td>\n",
       "      <td>21.0</td>\n",
       "      <td>Female</td>\n",
       "      <td>Backpack</td>\n",
       "      <td>31.588259</td>\n",
       "      <td>NaN</td>\n",
       "      <td>L</td>\n",
       "      <td>Turquoise</td>\n",
       "      <td>Winter</td>\n",
       "      <td>2.0</td>\n",
       "      <td>Express</td>\n",
       "      <td>No</td>\n",
       "      <td>1</td>\n",
       "      <td>Credit Card</td>\n",
       "      <td>Monthly</td>\n",
       "    </tr>\n",
       "    <tr>\n",
       "      <th>2</th>\n",
       "      <td>2756</td>\n",
       "      <td>31.0</td>\n",
       "      <td>Male</td>\n",
       "      <td>Leggings</td>\n",
       "      <td>24.231704</td>\n",
       "      <td>Nevada</td>\n",
       "      <td>M</td>\n",
       "      <td>Terra cotta</td>\n",
       "      <td>Winter</td>\n",
       "      <td>4.0</td>\n",
       "      <td>Standard</td>\n",
       "      <td>No</td>\n",
       "      <td>0</td>\n",
       "      <td>Credit Card</td>\n",
       "      <td>NaN</td>\n",
       "    </tr>\n",
       "    <tr>\n",
       "      <th>3</th>\n",
       "      <td>3340</td>\n",
       "      <td>NaN</td>\n",
       "      <td>Male</td>\n",
       "      <td>Pajamas</td>\n",
       "      <td>33.918834</td>\n",
       "      <td>Nebraska</td>\n",
       "      <td>M</td>\n",
       "      <td>Black</td>\n",
       "      <td>Winter</td>\n",
       "      <td>NaN</td>\n",
       "      <td>Standard</td>\n",
       "      <td>No</td>\n",
       "      <td>2</td>\n",
       "      <td>Credit Card</td>\n",
       "      <td>Bi-Weekly</td>\n",
       "    </tr>\n",
       "    <tr>\n",
       "      <th>4</th>\n",
       "      <td>3391</td>\n",
       "      <td>38.0</td>\n",
       "      <td>Male</td>\n",
       "      <td>Sunglasses</td>\n",
       "      <td>36.545487</td>\n",
       "      <td>Oregon</td>\n",
       "      <td>S</td>\n",
       "      <td>Aubergine</td>\n",
       "      <td>Summer</td>\n",
       "      <td>NaN</td>\n",
       "      <td>Standard</td>\n",
       "      <td>No</td>\n",
       "      <td>0</td>\n",
       "      <td>Credit Card</td>\n",
       "      <td>NaN</td>\n",
       "    </tr>\n",
       "  </tbody>\n",
       "</table>\n",
       "</div>"
      ],
      "text/plain": [
       "   Customer ID   Age  Gender Item Purchased  Purchase Amount (USD)  Location  \\\n",
       "0         3475   NaN    Male         Jacket              30.904467     Maine   \n",
       "1         3698  21.0  Female       Backpack              31.588259       NaN   \n",
       "2         2756  31.0    Male       Leggings              24.231704    Nevada   \n",
       "3         3340   NaN    Male        Pajamas              33.918834  Nebraska   \n",
       "4         3391  38.0    Male     Sunglasses              36.545487    Oregon   \n",
       "\n",
       "  Size         Color  Season  Review Rating Shipping Type Promo Code Used  \\\n",
       "0    M  Burnt orange    Fall            4.0      Standard              No   \n",
       "1    L     Turquoise  Winter            2.0       Express              No   \n",
       "2    M   Terra cotta  Winter            4.0      Standard              No   \n",
       "3    M         Black  Winter            NaN      Standard              No   \n",
       "4    S     Aubergine  Summer            NaN      Standard              No   \n",
       "\n",
       "   Previous Purchases Payment Method Frequency of Purchases  \n",
       "0                   0    Credit Card                    NaN  \n",
       "1                   1    Credit Card                Monthly  \n",
       "2                   0    Credit Card                    NaN  \n",
       "3                   2    Credit Card              Bi-Weekly  \n",
       "4                   0    Credit Card                    NaN  "
      ]
     },
     "execution_count": 3,
     "metadata": {},
     "output_type": "execute_result"
    }
   ],
   "source": [
    "df.head()"
   ]
  },
  {
   "cell_type": "markdown",
   "metadata": {},
   "source": [
    "## Groups"
   ]
  },
  {
   "cell_type": "code",
   "execution_count": 49,
   "metadata": {},
   "outputs": [
    {
     "data": {
      "text/plain": [
       "<pandas.core.groupby.generic.DataFrameGroupBy object at 0x1632d8670>"
      ]
     },
     "execution_count": 49,
     "metadata": {},
     "output_type": "execute_result"
    }
   ],
   "source": [
    "# TODO: Group your dataframe according to the \"Payment Method\" column. Save this grouped dataframe into a new variable\n",
    "# called 'g_pay' \n",
    "# Documentation: https://pandas.pydata.org/docs/reference/api/pandas.DataFrame.groupby.html\n",
    "\n",
    "g_pay = df.groupby(['Payment Method'])\n",
    "g_pay\n"
   ]
  },
  {
   "cell_type": "code",
   "execution_count": 53,
   "metadata": {},
   "outputs": [
    {
     "data": {
      "text/plain": [
       "Payment Method\n",
       "Bank Transfer    42.724584\n",
       "Cash             37.174985\n",
       "Credit Card      38.607690\n",
       "Debit Card       38.826152\n",
       "PayPal           38.748823\n",
       "Venmo            38.595344\n",
       "Name: Purchase Amount (USD), dtype: float64"
      ]
     },
     "execution_count": 53,
     "metadata": {},
     "output_type": "execute_result"
    }
   ],
   "source": [
    "# TODO: Using the \"agg\" function calculate the mean and median of the \"Purchase Amount (USD)\" column in the `g_pay` object\n",
    "\n",
    "g_pay['Purchase Amount (USD)'].agg('mean', 'median')"
   ]
  },
  {
   "cell_type": "code",
   "execution_count": 54,
   "metadata": {},
   "outputs": [
    {
     "data": {
      "text/plain": [
       "Payment Method\n",
       "Bank Transfer    65.090909\n",
       "Cash             65.300000\n",
       "Credit Card      33.774270\n",
       "Debit Card       33.595506\n",
       "PayPal           35.355433\n",
       "Venmo            34.505747\n",
       "Name: Age, dtype: float64"
      ]
     },
     "execution_count": 54,
     "metadata": {},
     "output_type": "execute_result"
    }
   ],
   "source": [
    "# TODO: Using the \"agg\" function calculate the mean and median of the \"Age\" column in the `g_pay` object\n",
    "\n",
    "g_pay['Age'].agg('mean', 'median')"
   ]
  },
  {
   "cell_type": "code",
   "execution_count": 55,
   "metadata": {},
   "outputs": [
    {
     "data": {
      "text/plain": [
       "Payment Method\n",
       "Bank Transfer    4.000000\n",
       "Cash             3.333333\n",
       "Credit Card      3.874763\n",
       "Debit Card       3.960334\n",
       "PayPal           3.886792\n",
       "Venmo            3.879808\n",
       "Name: Review Rating, dtype: float64"
      ]
     },
     "execution_count": 55,
     "metadata": {},
     "output_type": "execute_result"
    }
   ],
   "source": [
    "# TODO: Using the \"agg\" function calculate the mean and median of the \"Review Rating\" column in the `g_pay` object\n",
    "\n",
    "g_pay['Review Rating'].agg('mean', 'median')"
   ]
  },
  {
   "cell_type": "code",
   "execution_count": 57,
   "metadata": {},
   "outputs": [
    {
     "data": {
      "text/plain": [
       "<pandas.core.groupby.generic.DataFrameGroupBy object at 0x163c61460>"
      ]
     },
     "execution_count": 57,
     "metadata": {},
     "output_type": "execute_result"
    }
   ],
   "source": [
    "# TODO: Group your dataframe according to the \"Season\" column. Save this grouped dataframe into a new variable\n",
    "# called 'g_season' \n",
    "\n",
    "g_season = df.groupby(['Season'])\n",
    "g_season"
   ]
  },
  {
   "cell_type": "code",
   "execution_count": 58,
   "metadata": {},
   "outputs": [
    {
     "data": {
      "text/plain": [
       "Season\n",
       "Fall      38.830085\n",
       "Spring    39.293314\n",
       "Summer    38.690885\n",
       "Winter    38.366148\n",
       "Name: Purchase Amount (USD), dtype: float64"
      ]
     },
     "execution_count": 58,
     "metadata": {},
     "output_type": "execute_result"
    }
   ],
   "source": [
    "# TODO: Using the \"agg\" function calculate the mean and median of the \"Purchase Amount (USD)\" column in the `g_season` object\n",
    "\n",
    "g_season['Purchase Amount (USD)'].agg('mean', 'median')"
   ]
  },
  {
   "cell_type": "code",
   "execution_count": 59,
   "metadata": {},
   "outputs": [
    {
     "data": {
      "text/plain": [
       "Season\n",
       "Fall      34.302083\n",
       "Spring    33.772901\n",
       "Summer    34.495887\n",
       "Winter    34.262128\n",
       "Name: Age, dtype: float64"
      ]
     },
     "execution_count": 59,
     "metadata": {},
     "output_type": "execute_result"
    }
   ],
   "source": [
    "# TODO: Using the \"agg\" function calculate the mean and median of the \"Age\" column in the `g_season` object\n",
    "\n",
    "g_season['Age'].agg('mean', 'median')"
   ]
  },
  {
   "cell_type": "code",
   "execution_count": 60,
   "metadata": {},
   "outputs": [
    {
     "data": {
      "text/plain": [
       "Season\n",
       "Fall      3.813953\n",
       "Spring    3.892683\n",
       "Summer    4.005882\n",
       "Winter    3.911824\n",
       "Name: Review Rating, dtype: float64"
      ]
     },
     "execution_count": 60,
     "metadata": {},
     "output_type": "execute_result"
    }
   ],
   "source": [
    "# TODO: Using the \"agg\" function calculate the mean and median of the \"Review Rating\" column in the `g_season` object\n",
    "\n",
    "g_season['Review Rating'].agg('mean', 'median')"
   ]
  },
  {
   "cell_type": "markdown",
   "metadata": {},
   "source": [
    "## Pivot Tables"
   ]
  },
  {
   "cell_type": "code",
   "execution_count": 62,
   "metadata": {},
   "outputs": [
    {
     "data": {
      "text/html": [
       "<div>\n",
       "<style scoped>\n",
       "    .dataframe tbody tr th:only-of-type {\n",
       "        vertical-align: middle;\n",
       "    }\n",
       "\n",
       "    .dataframe tbody tr th {\n",
       "        vertical-align: top;\n",
       "    }\n",
       "\n",
       "    .dataframe thead th {\n",
       "        text-align: right;\n",
       "    }\n",
       "</style>\n",
       "<table border=\"1\" class=\"dataframe\">\n",
       "  <thead>\n",
       "    <tr style=\"text-align: right;\">\n",
       "      <th>Payment Method</th>\n",
       "      <th>Bank Transfer</th>\n",
       "      <th>Cash</th>\n",
       "      <th>Credit Card</th>\n",
       "      <th>Debit Card</th>\n",
       "      <th>PayPal</th>\n",
       "      <th>Venmo</th>\n",
       "    </tr>\n",
       "    <tr>\n",
       "      <th>Shipping Type</th>\n",
       "      <th></th>\n",
       "      <th></th>\n",
       "      <th></th>\n",
       "      <th></th>\n",
       "      <th></th>\n",
       "      <th></th>\n",
       "    </tr>\n",
       "  </thead>\n",
       "  <tbody>\n",
       "    <tr>\n",
       "      <th>2-Day Shipping</th>\n",
       "      <td>64.750000</td>\n",
       "      <td>63.000000</td>\n",
       "      <td>33.762274</td>\n",
       "      <td>33.925000</td>\n",
       "      <td>34.655629</td>\n",
       "      <td>33.879195</td>\n",
       "    </tr>\n",
       "    <tr>\n",
       "      <th>Express</th>\n",
       "      <td>NaN</td>\n",
       "      <td>NaN</td>\n",
       "      <td>32.436170</td>\n",
       "      <td>32.957746</td>\n",
       "      <td>35.918919</td>\n",
       "      <td>32.833333</td>\n",
       "    </tr>\n",
       "    <tr>\n",
       "      <th>Next Day Air</th>\n",
       "      <td>NaN</td>\n",
       "      <td>69.000000</td>\n",
       "      <td>34.612500</td>\n",
       "      <td>33.431818</td>\n",
       "      <td>38.489362</td>\n",
       "      <td>33.205128</td>\n",
       "    </tr>\n",
       "    <tr>\n",
       "      <th>Standard</th>\n",
       "      <td>65.285714</td>\n",
       "      <td>65.428571</td>\n",
       "      <td>33.864023</td>\n",
       "      <td>33.525903</td>\n",
       "      <td>35.152597</td>\n",
       "      <td>35.290210</td>\n",
       "    </tr>\n",
       "    <tr>\n",
       "      <th>Store Pickup</th>\n",
       "      <td>NaN</td>\n",
       "      <td>NaN</td>\n",
       "      <td>NaN</td>\n",
       "      <td>19.000000</td>\n",
       "      <td>NaN</td>\n",
       "      <td>NaN</td>\n",
       "    </tr>\n",
       "  </tbody>\n",
       "</table>\n",
       "</div>"
      ],
      "text/plain": [
       "Payment Method  Bank Transfer       Cash  Credit Card  Debit Card     PayPal  \\\n",
       "Shipping Type                                                                  \n",
       "2-Day Shipping      64.750000  63.000000    33.762274   33.925000  34.655629   \n",
       "Express                   NaN        NaN    32.436170   32.957746  35.918919   \n",
       "Next Day Air              NaN  69.000000    34.612500   33.431818  38.489362   \n",
       "Standard            65.285714  65.428571    33.864023   33.525903  35.152597   \n",
       "Store Pickup              NaN        NaN          NaN   19.000000        NaN   \n",
       "\n",
       "Payment Method      Venmo  \n",
       "Shipping Type              \n",
       "2-Day Shipping  33.879195  \n",
       "Express         32.833333  \n",
       "Next Day Air    33.205128  \n",
       "Standard        35.290210  \n",
       "Store Pickup          NaN  "
      ]
     },
     "execution_count": 62,
     "metadata": {},
     "output_type": "execute_result"
    }
   ],
   "source": [
    "# TODO: Create a pivot table where \"Payment Method\" is your column, \"Shipping Type\" is your index, and \"Age\" is your value\n",
    "# use the \"mean\" function as the \"aggfunc\" parameter.\n",
    "# Save this pivot table to a new variable named `tab_pay`\n",
    "# Documentation: https://pandas.pydata.org/docs/reference/api/pandas.pivot_table.html#\n",
    "\n",
    "tab_pay = pd.pivot_table(df, values='Age', index=['Shipping Type'], columns=['Payment Method'], aggfunc=\"mean\")\n",
    "tab_pay"
   ]
  },
  {
   "cell_type": "code",
   "execution_count": 63,
   "metadata": {},
   "outputs": [
    {
     "data": {
      "text/html": [
       "<div>\n",
       "<style scoped>\n",
       "    .dataframe tbody tr th:only-of-type {\n",
       "        vertical-align: middle;\n",
       "    }\n",
       "\n",
       "    .dataframe tbody tr th {\n",
       "        vertical-align: top;\n",
       "    }\n",
       "\n",
       "    .dataframe thead th {\n",
       "        text-align: right;\n",
       "    }\n",
       "</style>\n",
       "<table border=\"1\" class=\"dataframe\">\n",
       "  <thead>\n",
       "    <tr style=\"text-align: right;\">\n",
       "      <th>Payment Method</th>\n",
       "      <th>Bank Transfer</th>\n",
       "      <th>Cash</th>\n",
       "      <th>Credit Card</th>\n",
       "      <th>Debit Card</th>\n",
       "      <th>PayPal</th>\n",
       "      <th>Venmo</th>\n",
       "    </tr>\n",
       "    <tr>\n",
       "      <th>Shipping Type</th>\n",
       "      <th></th>\n",
       "      <th></th>\n",
       "      <th></th>\n",
       "      <th></th>\n",
       "      <th></th>\n",
       "      <th></th>\n",
       "    </tr>\n",
       "  </thead>\n",
       "  <tbody>\n",
       "    <tr>\n",
       "      <th>2-Day Shipping</th>\n",
       "      <td>64.750000</td>\n",
       "      <td>63.000000</td>\n",
       "      <td>33.762274</td>\n",
       "      <td>33.925000</td>\n",
       "      <td>34.655629</td>\n",
       "      <td>33.879195</td>\n",
       "    </tr>\n",
       "    <tr>\n",
       "      <th>Express</th>\n",
       "      <td>NaN</td>\n",
       "      <td>NaN</td>\n",
       "      <td>32.436170</td>\n",
       "      <td>32.957746</td>\n",
       "      <td>35.918919</td>\n",
       "      <td>32.833333</td>\n",
       "    </tr>\n",
       "    <tr>\n",
       "      <th>Next Day Air</th>\n",
       "      <td>NaN</td>\n",
       "      <td>69.000000</td>\n",
       "      <td>34.612500</td>\n",
       "      <td>33.431818</td>\n",
       "      <td>38.489362</td>\n",
       "      <td>33.205128</td>\n",
       "    </tr>\n",
       "    <tr>\n",
       "      <th>Standard</th>\n",
       "      <td>65.285714</td>\n",
       "      <td>65.428571</td>\n",
       "      <td>33.864023</td>\n",
       "      <td>33.525903</td>\n",
       "      <td>35.152597</td>\n",
       "      <td>35.290210</td>\n",
       "    </tr>\n",
       "    <tr>\n",
       "      <th>Store Pickup</th>\n",
       "      <td>NaN</td>\n",
       "      <td>NaN</td>\n",
       "      <td>NaN</td>\n",
       "      <td>19.000000</td>\n",
       "      <td>NaN</td>\n",
       "      <td>NaN</td>\n",
       "    </tr>\n",
       "  </tbody>\n",
       "</table>\n",
       "</div>"
      ],
      "text/plain": [
       "Payment Method  Bank Transfer       Cash  Credit Card  Debit Card     PayPal  \\\n",
       "Shipping Type                                                                  \n",
       "2-Day Shipping      64.750000  63.000000    33.762274   33.925000  34.655629   \n",
       "Express                   NaN        NaN    32.436170   32.957746  35.918919   \n",
       "Next Day Air              NaN  69.000000    34.612500   33.431818  38.489362   \n",
       "Standard            65.285714  65.428571    33.864023   33.525903  35.152597   \n",
       "Store Pickup              NaN        NaN          NaN   19.000000        NaN   \n",
       "\n",
       "Payment Method      Venmo  \n",
       "Shipping Type              \n",
       "2-Day Shipping  33.879195  \n",
       "Express         32.833333  \n",
       "Next Day Air    33.205128  \n",
       "Standard        35.290210  \n",
       "Store Pickup          NaN  "
      ]
     },
     "execution_count": 63,
     "metadata": {},
     "output_type": "execute_result"
    }
   ],
   "source": [
    "# TODO: output this table for display. Notice the difference in average ages.\n",
    "\n",
    "tab_pay"
   ]
  },
  {
   "cell_type": "code",
   "execution_count": 68,
   "metadata": {},
   "outputs": [],
   "source": [
    "# TODO: Create a pivot table where you analyze the count of purchases for each combination of \"Color\" and \"Season\"\n",
    "# use the \"count\" function as the \"aggfunc\" parameter.\n",
    "# Save this pivot table to a new variable named `tab_season`\n",
    "# Documentation: https://pandas.pydata.org/docs/reference/api/pandas.pivot_table.html#\n",
    "\n",
    "tab_season = pd.pivot_table(df, values='Purchase Amount (USD)', index=['Color'], columns=['Season'], aggfunc=\"count\")"
   ]
  },
  {
   "cell_type": "code",
   "execution_count": 69,
   "metadata": {},
   "outputs": [
    {
     "data": {
      "text/html": [
       "<div>\n",
       "<style scoped>\n",
       "    .dataframe tbody tr th:only-of-type {\n",
       "        vertical-align: middle;\n",
       "    }\n",
       "\n",
       "    .dataframe tbody tr th {\n",
       "        vertical-align: top;\n",
       "    }\n",
       "\n",
       "    .dataframe thead th {\n",
       "        text-align: right;\n",
       "    }\n",
       "</style>\n",
       "<table border=\"1\" class=\"dataframe\">\n",
       "  <thead>\n",
       "    <tr style=\"text-align: right;\">\n",
       "      <th>Season</th>\n",
       "      <th>Fall</th>\n",
       "      <th>Spring</th>\n",
       "      <th>Summer</th>\n",
       "      <th>Winter</th>\n",
       "    </tr>\n",
       "    <tr>\n",
       "      <th>Color</th>\n",
       "      <th></th>\n",
       "      <th></th>\n",
       "      <th></th>\n",
       "      <th></th>\n",
       "    </tr>\n",
       "  </thead>\n",
       "  <tbody>\n",
       "    <tr>\n",
       "      <th>Aubergine</th>\n",
       "      <td>101</td>\n",
       "      <td>4</td>\n",
       "      <td>14</td>\n",
       "      <td>144</td>\n",
       "    </tr>\n",
       "    <tr>\n",
       "      <th>Baby blue</th>\n",
       "      <td>17</td>\n",
       "      <td>83</td>\n",
       "      <td>99</td>\n",
       "      <td>24</td>\n",
       "    </tr>\n",
       "    <tr>\n",
       "      <th>Black</th>\n",
       "      <td>103</td>\n",
       "      <td>5</td>\n",
       "      <td>12</td>\n",
       "      <td>155</td>\n",
       "    </tr>\n",
       "    <tr>\n",
       "      <th>Brick red</th>\n",
       "      <td>103</td>\n",
       "      <td>7</td>\n",
       "      <td>14</td>\n",
       "      <td>140</td>\n",
       "    </tr>\n",
       "    <tr>\n",
       "      <th>Brown</th>\n",
       "      <td>117</td>\n",
       "      <td>5</td>\n",
       "      <td>5</td>\n",
       "      <td>120</td>\n",
       "    </tr>\n",
       "    <tr>\n",
       "      <th>Burnt orange</th>\n",
       "      <td>110</td>\n",
       "      <td>4</td>\n",
       "      <td>10</td>\n",
       "      <td>138</td>\n",
       "    </tr>\n",
       "    <tr>\n",
       "      <th>Fuchsia</th>\n",
       "      <td>5</td>\n",
       "      <td>59</td>\n",
       "      <td>103</td>\n",
       "      <td>21</td>\n",
       "    </tr>\n",
       "    <tr>\n",
       "      <th>Lavender</th>\n",
       "      <td>19</td>\n",
       "      <td>63</td>\n",
       "      <td>120</td>\n",
       "      <td>13</td>\n",
       "    </tr>\n",
       "    <tr>\n",
       "      <th>Lemon yellow</th>\n",
       "      <td>11</td>\n",
       "      <td>62</td>\n",
       "      <td>112</td>\n",
       "      <td>18</td>\n",
       "    </tr>\n",
       "    <tr>\n",
       "      <th>Mauve</th>\n",
       "      <td>102</td>\n",
       "      <td>6</td>\n",
       "      <td>12</td>\n",
       "      <td>120</td>\n",
       "    </tr>\n",
       "    <tr>\n",
       "      <th>Muted mustard yellow</th>\n",
       "      <td>103</td>\n",
       "      <td>10</td>\n",
       "      <td>15</td>\n",
       "      <td>110</td>\n",
       "    </tr>\n",
       "    <tr>\n",
       "      <th>Pale peach</th>\n",
       "      <td>13</td>\n",
       "      <td>68</td>\n",
       "      <td>104</td>\n",
       "      <td>15</td>\n",
       "    </tr>\n",
       "    <tr>\n",
       "      <th>Periwinkle</th>\n",
       "      <td>9</td>\n",
       "      <td>63</td>\n",
       "      <td>105</td>\n",
       "      <td>9</td>\n",
       "    </tr>\n",
       "    <tr>\n",
       "      <th>Ruby Red</th>\n",
       "      <td>112</td>\n",
       "      <td>4</td>\n",
       "      <td>10</td>\n",
       "      <td>132</td>\n",
       "    </tr>\n",
       "    <tr>\n",
       "      <th>Terra cotta</th>\n",
       "      <td>108</td>\n",
       "      <td>5</td>\n",
       "      <td>15</td>\n",
       "      <td>131</td>\n",
       "    </tr>\n",
       "    <tr>\n",
       "      <th>Turquoise</th>\n",
       "      <td>10</td>\n",
       "      <td>60</td>\n",
       "      <td>96</td>\n",
       "      <td>19</td>\n",
       "    </tr>\n",
       "    <tr>\n",
       "      <th>White</th>\n",
       "      <td>13</td>\n",
       "      <td>73</td>\n",
       "      <td>96</td>\n",
       "      <td>12</td>\n",
       "    </tr>\n",
       "  </tbody>\n",
       "</table>\n",
       "</div>"
      ],
      "text/plain": [
       "Season                Fall  Spring  Summer  Winter\n",
       "Color                                             \n",
       "Aubergine              101       4      14     144\n",
       "Baby blue               17      83      99      24\n",
       "Black                  103       5      12     155\n",
       "Brick red              103       7      14     140\n",
       "Brown                  117       5       5     120\n",
       "Burnt orange           110       4      10     138\n",
       "Fuchsia                  5      59     103      21\n",
       "Lavender                19      63     120      13\n",
       "Lemon yellow            11      62     112      18\n",
       "Mauve                  102       6      12     120\n",
       "Muted mustard yellow   103      10      15     110\n",
       "Pale peach              13      68     104      15\n",
       "Periwinkle               9      63     105       9\n",
       "Ruby Red               112       4      10     132\n",
       "Terra cotta            108       5      15     131\n",
       "Turquoise               10      60      96      19\n",
       "White                   13      73      96      12"
      ]
     },
     "execution_count": 69,
     "metadata": {},
     "output_type": "execute_result"
    }
   ],
   "source": [
    "# TODO: Output this table for observation. Notice how counts of colors change throughout the season\n",
    "\n",
    "tab_season"
   ]
  },
  {
   "cell_type": "code",
   "execution_count": 70,
   "metadata": {},
   "outputs": [
    {
     "data": {
      "text/plain": [
       "Color\n",
       "Aubergine               Winter\n",
       "Baby blue               Summer\n",
       "Black                   Winter\n",
       "Brick red               Winter\n",
       "Brown                   Winter\n",
       "Burnt orange            Winter\n",
       "Fuchsia                 Summer\n",
       "Lavender                Summer\n",
       "Lemon yellow            Summer\n",
       "Mauve                   Winter\n",
       "Muted mustard yellow    Winter\n",
       "Pale peach              Summer\n",
       "Periwinkle              Summer\n",
       "Ruby Red                Winter\n",
       "Terra cotta             Winter\n",
       "Turquoise               Summer\n",
       "White                   Summer\n",
       "dtype: object"
      ]
     },
     "execution_count": 70,
     "metadata": {},
     "output_type": "execute_result"
    }
   ],
   "source": [
    "# TODO: Using the \"idmax\" method, get the index with the maximum value for each Season column on the pivot table `tab_season`\n",
    "# Documentation: https://pandas.pydata.org/docs/reference/api/pandas.DataFrame.idxmax.html\n",
    "\n",
    "tab_season.idxmax(axis = 'columns')"
   ]
  },
  {
   "cell_type": "markdown",
   "metadata": {},
   "source": [
    "## Bins "
   ]
  },
  {
   "cell_type": "code",
   "execution_count": 18,
   "metadata": {},
   "outputs": [
    {
     "data": {
      "text/plain": [
       "0       Ellipsis\n",
       "1       Ellipsis\n",
       "2       Ellipsis\n",
       "3       Ellipsis\n",
       "4       Ellipsis\n",
       "          ...   \n",
       "3895    Ellipsis\n",
       "3896    Ellipsis\n",
       "3897    Ellipsis\n",
       "3898    Ellipsis\n",
       "3899    Ellipsis\n",
       "Name: purchase group, Length: 3900, dtype: object"
      ]
     },
     "execution_count": 18,
     "metadata": {},
     "output_type": "execute_result"
    }
   ],
   "source": [
    "# TODO: Create a new column called \"purchase group\" in your original dataframe which equally seperates your dataframe into \n",
    "# two groups of shoppers based on their \"Purchase Amount (USD)\" column using the \"pd.qcut\" method. \n",
    "# Ensure that you are only creating 2 \"bins\" and label these respective bins as [\"Low\", \"High\"]\n",
    "# Documentation: https://pandas.pydata.org/docs/reference/api/pandas.qcut.html\n",
    "\n",
    "df[\"purchase group\"] = ...\n",
    "\n",
    "df[\"purchase group\"]"
   ]
  },
  {
   "cell_type": "code",
   "execution_count": 19,
   "metadata": {},
   "outputs": [
    {
     "data": {
      "text/plain": [
       "Ellipsis"
      ]
     },
     "execution_count": 19,
     "metadata": {},
     "output_type": "execute_result"
    }
   ],
   "source": [
    "# TODO: Group your dataframe according to this new \"purchase group\" column. Save this grouped dataframe into a new variable\n",
    "# called 'g_purchase' \n",
    "\n",
    "..."
   ]
  },
  {
   "cell_type": "code",
   "execution_count": 20,
   "metadata": {},
   "outputs": [
    {
     "data": {
      "text/plain": [
       "Ellipsis"
      ]
     },
     "execution_count": 20,
     "metadata": {},
     "output_type": "execute_result"
    }
   ],
   "source": [
    "# TODO: Using the \"agg\" function calculate the mean and median of the \"Review Rating\" column in the `g_purchase` object\n",
    "\n",
    "..."
   ]
  },
  {
   "cell_type": "code",
   "execution_count": 21,
   "metadata": {},
   "outputs": [
    {
     "data": {
      "text/plain": [
       "Ellipsis"
      ]
     },
     "execution_count": 21,
     "metadata": {},
     "output_type": "execute_result"
    }
   ],
   "source": [
    "# TODO: Using the \"agg\" function calculate the mean and median of the \"Previous Purchases\" column in the `g_purchase` object\n",
    "\n",
    "..."
   ]
  },
  {
   "cell_type": "markdown",
   "metadata": {},
   "source": [
    "## Hypothesis Testing \n",
    "\n",
    "Your manager has a hunch that people who have paid by credit card tend to spend more than people who have purchased by debit card. Let's test the statistical assumptions of this hypothesis."
   ]
  },
  {
   "cell_type": "markdown",
   "metadata": {},
   "source": [
    "What is the null hypothesis of this experiment? **Rememeber**: we are discussing the differences between average amounts spent between two groups."
   ]
  },
  {
   "cell_type": "markdown",
   "metadata": {},
   "source": [
    "Answer here"
   ]
  },
  {
   "cell_type": "markdown",
   "metadata": {},
   "source": [
    "What is the alternative hypothesis of this experiment? **Rememeber**: we are discussing the differences between average amounts spent between two groups."
   ]
  },
  {
   "cell_type": "markdown",
   "metadata": {},
   "source": [
    "Answer here"
   ]
  },
  {
   "cell_type": "code",
   "execution_count": 22,
   "metadata": {},
   "outputs": [],
   "source": [
    "# TODO: Create two new dataframes for only credit-card purchases and debit-card purchases, and save each respective dataframe into variables named `credit` and `debit` respectively. \n",
    "# Use boolean indexing to accomplish this. Recall that these values lie in the \"Payment Method\" column\n",
    "\n",
    "credit = ...\n",
    "debit = ..."
   ]
  },
  {
   "cell_type": "code",
   "execution_count": 23,
   "metadata": {},
   "outputs": [
    {
     "ename": "TypeError",
     "evalue": "'ellipsis' object is not subscriptable",
     "output_type": "error",
     "traceback": [
      "\u001b[0;31m---------------------------------------------------------------------------\u001b[0m",
      "\u001b[0;31mTypeError\u001b[0m                                 Traceback (most recent call last)",
      "Cell \u001b[0;32mIn[23], line 6\u001b[0m\n\u001b[1;32m      1\u001b[0m \u001b[38;5;66;03m# TODO: Calculate the p-value of the t-score between the \"Purchase Amount (USD)\" column of both these dataframes\u001b[39;00m\n\u001b[1;32m      2\u001b[0m \u001b[38;5;66;03m# Documentation: https://docs.scipy.org/doc/scipy/reference/generated/scipy.stats.ttest_ind.html\u001b[39;00m\n\u001b[1;32m      4\u001b[0m \u001b[38;5;28;01mfrom\u001b[39;00m \u001b[38;5;21;01mscipy\u001b[39;00m \u001b[38;5;28;01mimport\u001b[39;00m stats \n\u001b[0;32m----> 6\u001b[0m stats\u001b[38;5;241m.\u001b[39mttest_ind(\u001b[43mcredit\u001b[49m\u001b[43m[\u001b[49m\u001b[38;5;124;43m\"\u001b[39;49m\u001b[38;5;124;43mPurchase Amount (USD)\u001b[39;49m\u001b[38;5;124;43m\"\u001b[39;49m\u001b[43m]\u001b[49m, debit[\u001b[38;5;124m\"\u001b[39m\u001b[38;5;124mPurchase Amount (USD)\u001b[39m\u001b[38;5;124m\"\u001b[39m])\n",
      "\u001b[0;31mTypeError\u001b[0m: 'ellipsis' object is not subscriptable"
     ]
    }
   ],
   "source": [
    "# TODO: Calculate the p-value of the t-score between the \"Purchase Amount (USD)\" column of both these dataframes\n",
    "# Documentation: https://docs.scipy.org/doc/scipy/reference/generated/scipy.stats.ttest_ind.html\n",
    "\n",
    "from scipy import stats \n",
    "\n",
    "stats.ttest_ind(credit[\"Purchase Amount (USD)\"], debit[\"Purchase Amount (USD)\"])"
   ]
  },
  {
   "cell_type": "markdown",
   "metadata": {},
   "source": [
    "## Data Analysis Lab II\n",
    "\n",
    "In the next section, answer a few questions regarding your dataset using the output you've generated."
   ]
  },
  {
   "cell_type": "markdown",
   "metadata": {},
   "source": [
    "## Q1\n",
    "\n",
    "Based on the p-value that we've calculated, what can we state about the null hypothesis referring to the difference of average dollars spent between credit card and debit card holders."
   ]
  },
  {
   "cell_type": "markdown",
   "metadata": {},
   "source": [
    "Answer here"
   ]
  },
  {
   "cell_type": "markdown",
   "metadata": {},
   "source": [
    "## Q2\n",
    "\n",
    "What is the average age of a user who pays with cash? What is the average age of someone who pays with credit card? Is there a difference between these two users?"
   ]
  },
  {
   "cell_type": "markdown",
   "metadata": {},
   "source": [
    "Answer here"
   ]
  },
  {
   "cell_type": "markdown",
   "metadata": {},
   "source": [
    "## Q3\n",
    "\n",
    "What is the average age of a user who buys clothes in the spring? What is the average age of a user who buys clothes in the winter Is there a difference between these two users?"
   ]
  },
  {
   "cell_type": "markdown",
   "metadata": {},
   "source": [
    "Answer here"
   ]
  },
  {
   "cell_type": "markdown",
   "metadata": {},
   "source": [
    "## Q4\n",
    "\n",
    "What is the most popular season for the color \"Lemon yellow\"?"
   ]
  },
  {
   "cell_type": "markdown",
   "metadata": {},
   "source": [
    "Answer here"
   ]
  },
  {
   "cell_type": "markdown",
   "metadata": {},
   "source": [
    "## Q5\n",
    "\n",
    "What is the average review rating of a \"low\" purchase group user and the \"high\" purchase group?"
   ]
  },
  {
   "cell_type": "markdown",
   "metadata": {},
   "source": [
    "Answer here"
   ]
  }
 ],
 "metadata": {
  "kernelspec": {
   "display_name": "phase1",
   "language": "python",
   "name": "python3"
  },
  "language_info": {
   "codemirror_mode": {
    "name": "ipython",
    "version": 3
   },
   "file_extension": ".py",
   "mimetype": "text/x-python",
   "name": "python",
   "nbconvert_exporter": "python",
   "pygments_lexer": "ipython3",
   "version": "3.9.18"
  }
 },
 "nbformat": 4,
 "nbformat_minor": 2
}
