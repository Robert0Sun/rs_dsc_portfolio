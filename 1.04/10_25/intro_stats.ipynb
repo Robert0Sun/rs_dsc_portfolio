{
 "cells": [
  {
   "cell_type": "markdown",
   "metadata": {},
   "source": [
    "# Stats Lab\n",
    "\n",
    "The goal of this lab will be to cover basic statistical analysis and get you practicing visualizing data and calculating central tendency using python and mathematics.\n",
    "\n",
    "Follow the instructions in each cell. You will be given some starter code to help you and the necessary imports, but fill in the ellipsis (...) with the proper code."
   ]
  },
  {
   "cell_type": "code",
   "execution_count": 1,
   "metadata": {},
   "outputs": [],
   "source": [
    "import random"
   ]
  },
  {
   "cell_type": "code",
   "execution_count": 8,
   "metadata": {},
   "outputs": [
    {
     "name": "stdout",
     "output_type": "stream",
     "text": [
      "[80, 62, 63, 38, 61, 1, 13, 17, 53, 17, 64, 25, 14, 62, 42, 75, 41, 42, 36, 33, 32, 61, 54, 23, 50, 60, 35, 53, 71, 35]\n"
     ]
    }
   ],
   "source": [
    "# Using random's randint() function and for loops, generate a list of 30 numbers.random\n",
    "\n",
    "random_numbers = []\n",
    "\n",
    "for x in range(30):\n",
    "    random_numbers.append(random.randint(1,80))\n",
    "\n",
    "print(random_numbers)    "
   ]
  },
  {
   "cell_type": "code",
   "execution_count": 15,
   "metadata": {},
   "outputs": [
    {
     "data": {
      "text/plain": [
       "43.766666666666666"
      ]
     },
     "execution_count": 15,
     "metadata": {},
     "output_type": "execute_result"
    }
   ],
   "source": [
    "# Calculate the mean of the list without using python packages\n",
    "# reminder, the formula for mean is sum(numbers)/(count of numbers)\n",
    "# use the len() function\n",
    "\n",
    "mean = sum(random_numbers)/len(random_numbers)\n",
    "mean"
   ]
  },
  {
   "cell_type": "markdown",
   "metadata": {},
   "source": [
    "#### Central Tendency\n",
    "Now using the statistics package in Python calculate the mean, median, and mode of your list.\n",
    "\n",
    "Hint: read the following documentation: https://docs.python.org/3/library/statistics.html"
   ]
  },
  {
   "cell_type": "code",
   "execution_count": 16,
   "metadata": {},
   "outputs": [],
   "source": [
    "import statistics"
   ]
  },
  {
   "cell_type": "code",
   "execution_count": 18,
   "metadata": {},
   "outputs": [
    {
     "data": {
      "text/plain": [
       "43.766666666666666"
      ]
     },
     "execution_count": 18,
     "metadata": {},
     "output_type": "execute_result"
    }
   ],
   "source": [
    "# Print answer here\n",
    "statistics.mean(random_numbers)\n"
   ]
  },
  {
   "cell_type": "code",
   "execution_count": 19,
   "metadata": {},
   "outputs": [
    {
     "data": {
      "text/plain": [
       "42.0"
      ]
     },
     "execution_count": 19,
     "metadata": {},
     "output_type": "execute_result"
    }
   ],
   "source": [
    "statistics.median(random_numbers)"
   ]
  },
  {
   "cell_type": "code",
   "execution_count": 20,
   "metadata": {},
   "outputs": [
    {
     "data": {
      "text/plain": [
       "62"
      ]
     },
     "execution_count": 20,
     "metadata": {},
     "output_type": "execute_result"
    }
   ],
   "source": [
    "statistics.mode(random_numbers)"
   ]
  },
  {
   "cell_type": "code",
   "execution_count": 21,
   "metadata": {},
   "outputs": [
    {
     "data": {
      "text/plain": [
       "[1,\n",
       " 13,\n",
       " 14,\n",
       " 17,\n",
       " 17,\n",
       " 23,\n",
       " 25,\n",
       " 32,\n",
       " 33,\n",
       " 35,\n",
       " 35,\n",
       " 36,\n",
       " 38,\n",
       " 41,\n",
       " 42,\n",
       " 42,\n",
       " 50,\n",
       " 53,\n",
       " 53,\n",
       " 54,\n",
       " 60,\n",
       " 61,\n",
       " 61,\n",
       " 62,\n",
       " 62,\n",
       " 63,\n",
       " 64,\n",
       " 71,\n",
       " 75,\n",
       " 80]"
      ]
     },
     "execution_count": 21,
     "metadata": {},
     "output_type": "execute_result"
    }
   ],
   "source": [
    "sorted(random_numbers)"
   ]
  },
  {
   "cell_type": "markdown",
   "metadata": {},
   "source": [
    "#### Visualizing data\n",
    "You will make two graphs: a histogram and a scatter plot. Using the matplotlib.pyplot package generate the histogram using your first list of data.\n",
    "\n",
    "Using the code above, make a second list of 30 random numbers.\n",
    "With these two lists, create a scatter plot of that random data.\n",
    "\n",
    "Hint: read the following: \n",
    "https://matplotlib.org/stable/api/_as_gen/matplotlib.pyplot.hist.html\n",
    "https://matplotlib.org/stable/gallery/shapes_and_collections/scatter.html"
   ]
  },
  {
   "cell_type": "code",
   "execution_count": 22,
   "metadata": {},
   "outputs": [],
   "source": [
    "import matplotlib.pyplot as plt"
   ]
  },
  {
   "cell_type": "code",
   "execution_count": 23,
   "metadata": {},
   "outputs": [
    {
     "data": {
      "text/plain": [
       "(array([1., 2., 3., 2., 5., 3., 4., 7., 1., 2.]),\n",
       " array([ 1. ,  8.9, 16.8, 24.7, 32.6, 40.5, 48.4, 56.3, 64.2, 72.1, 80. ]),\n",
       " <BarContainer object of 10 artists>)"
      ]
     },
     "execution_count": 23,
     "metadata": {},
     "output_type": "execute_result"
    },
    {
     "data": {
      "image/png": "[encoded data removed]",
      "text/plain": [
       "<Figure size 640x480 with 1 Axes>"
      ]
     },
     "metadata": {},
     "output_type": "display_data"
    }
   ],
   "source": [
    "plt.hist(random_numbers)"
   ]
  },
  {
   "cell_type": "code",
   "execution_count": 27,
   "metadata": {},
   "outputs": [],
   "source": [
    "list_two = []      \n",
    "\n",
    "for _ in range(30):\n",
    "    list_two.append(random.randint(1,80))"
   ]
  },
  {
   "cell_type": "code",
   "execution_count": 28,
   "metadata": {},
   "outputs": [
    {
     "data": {
      "text/plain": [
       "<matplotlib.collections.PathCollection at 0x117202820>"
      ]
     },
     "execution_count": 28,
     "metadata": {},
     "output_type": "execute_result"
    },
    {
     "data": {
      "image/png": "[encoded data removed]",
      "text/plain": [
       "<Figure size 640x480 with 1 Axes>"
      ]
     },
     "metadata": {},
     "output_type": "display_data"
    }
   ],
   "source": [
    "plt.scatter(x=random_numbers, y=list_two)"
   ]
  },
  {
   "attachments": {
    "image.png": {
     "image/png": "[encoded data removed]"
    }
   },
   "cell_type": "markdown",
   "metadata": {},
   "source": [
    "Using code, calculate the standard deviation of both of your lists.\n",
    "\n",
    "Remember that the formula for standard deviation is the following (in English):\n",
    "The square root of the sum of squared differences between each value of x and the mean divided by the number of values.\n",
    "\n",
    "In other words: sqrt( sum(x - mean)^2/N )\n",
    "\n",
    "![image.png](attachment:image.png)\n",
    "\n",
    "Read: https://www.khanacademy.org/math/statistics-probability/summarizing-quantitative-data/variance-standard-deviation-population/a/calculating-standard-deviation-step-by-step for math explanation"
   ]
  },
  {
   "cell_type": "code",
   "execution_count": null,
   "metadata": {},
   "outputs": [],
   "source": [
    "import math"
   ]
  },
  {
   "cell_type": "code",
   "execution_count": null,
   "metadata": {},
   "outputs": [],
   "source": [
    "# use the mean function from statistics to calculate mean\n",
    "# use a for loop to keep track of the squared differences \n",
    "# the math package has a sqrt function\n",
    "\n",
    "squared_diff = []\n",
    "\n",
    "mean_of_random_numbers = statistics.mean(random_numbers)\n",
    "\n",
    "for num in random_numbers:\n",
    "    squared_diff.append(num - mean_of_random_numbers) # think of what method you would use here\n",
    "\n",
    "sum_squared_diff = ...\n",
    "\n",
    "standard_devation = ...\n"
   ]
  },
  {
   "cell_type": "code",
   "execution_count": null,
   "metadata": {},
   "outputs": [],
   "source": [
    "# Now do the whole thing again but using list comprehension instead\n",
    "# Who can do it in the fewest amount of lines?"
   ]
  }
 ],
 "metadata": {
  "kernelspec": {
   "display_name": "phase1",
   "language": "python",
   "name": "python3"
  },
  "language_info": {
   "codemirror_mode": {
    "name": "ipython",
    "version": 3
   },
   "file_extension": ".py",
   "mimetype": "text/x-python",
   "name": "python",
   "nbconvert_exporter": "python",
   "pygments_lexer": "ipython3",
   "version": "3.9.18"
  }
 },
 "nbformat": 4,
 "nbformat_minor": 2
}
