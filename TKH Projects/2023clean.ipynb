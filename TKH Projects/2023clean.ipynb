{
 "cells": [
  {
   "cell_type": "markdown",
   "metadata": {},
   "source": [
    "## Data Cleaning \n",
    "\n",
    "You'll notice that this dataset is by no means ready for analysis. We have:\n",
    "\n",
    "* a numeric column interpreted as a string\n",
    "* extra columns that are not relevant to our analysis\n",
    "* multiple rows with missing values\n",
    "* column names are too long\n",
    "\n",
    "Let's \"clean\" our dataset by fixing these errors below."
   ]
  },
  {
   "cell_type": "code",
   "execution_count": 3,
   "metadata": {},
   "outputs": [],
   "source": [
    "# import required modules for this project\n",
    "\n",
    "import pandas as pd\n",
    "import numpy as np\n",
    "\n",
    "import matplotlib.pyplot as plt\n",
    "import seaborn as sns"
   ]
  },
  {
   "cell_type": "code",
   "execution_count": 30,
   "metadata": {},
   "outputs": [
    {
     "data": {
      "text/plain": [
       "No                                         0\n",
       "X2 house age                              11\n",
       "X3 distance to the nearest MRT station     0\n",
       "X4 number of convenience stores            1\n",
       "X5 latitude                                0\n",
       "X6 longitude                               0\n",
       "Y house price of unit area                 0\n",
       "dtype: int64"
      ]
     },
     "execution_count": 30,
     "metadata": {},
     "output_type": "execute_result"
    }
   ],
   "source": [
    "# TODO: load in excel file \"../../data/raw/realestate.xlsx\"\n",
    "# documentation: https://pandas.pydata.org/docs/reference/api/pandas.read_excel.html\n",
    "\n",
    "df = pd.read_excel(\"/Users/rsuncin.fellow/Desktop/TKH Projects/rental-pricing-explore-normal/data/raw/realestate.xlsx\")\n",
    "\n",
    "# check how many missing values we have\n",
    "\n",
    "df.isna().sum()"
   ]
  },
  {
   "cell_type": "code",
   "execution_count": 7,
   "metadata": {},
   "outputs": [
    {
     "data": {
      "text/plain": [
       "Index(['No', 'house_age', 'distance_to_mrt', 'num_convenience_stores', 'lat',\n",
       "       'long', 'price_unit_area'],\n",
       "      dtype='object')"
      ]
     },
     "execution_count": 7,
     "metadata": {},
     "output_type": "execute_result"
    }
   ],
   "source": [
    "# create dictionary of mappings\n",
    "rename_dict = {\n",
    "    \"X2 house age\": \"house_age\", \n",
    "    \"X3 distance to the nearest MRT station\": \"distance_to_mrt\", \n",
    "    \"X4 number of convenience stores\": \"num_convenience_stores\",\n",
    "    \"X5 latitude\": \"lat\",\n",
    "    \"X6 longitude\": \"long\",\n",
    "    \"Y house price of unit area\": \"price_unit_area\"\n",
    "}\n",
    "\n",
    "# rename columns\n",
    "df_rename = df.rename(columns=rename_dict)\n",
    "\n",
    "# view new columns\n",
    "df_rename.columns"
   ]
  },
  {
   "cell_type": "code",
   "execution_count": 65,
   "metadata": {},
   "outputs": [
    {
     "data": {
      "text/html": [
       "<div>\n",
       "<style scoped>\n",
       "    .dataframe tbody tr th:only-of-type {\n",
       "        vertical-align: middle;\n",
       "    }\n",
       "\n",
       "    .dataframe tbody tr th {\n",
       "        vertical-align: top;\n",
       "    }\n",
       "\n",
       "    .dataframe thead th {\n",
       "        text-align: right;\n",
       "    }\n",
       "</style>\n",
       "<table border=\"1\" class=\"dataframe\">\n",
       "  <thead>\n",
       "    <tr style=\"text-align: right;\">\n",
       "      <th></th>\n",
       "      <th>house_age</th>\n",
       "      <th>distance_to_mrt</th>\n",
       "      <th>num_convenience_stores</th>\n",
       "      <th>price_unit_area</th>\n",
       "    </tr>\n",
       "  </thead>\n",
       "  <tbody>\n",
       "    <tr>\n",
       "      <th>0</th>\n",
       "      <td>32.0</td>\n",
       "      <td>\"84.87882\"</td>\n",
       "      <td>100.0</td>\n",
       "      <td>37.9</td>\n",
       "    </tr>\n",
       "    <tr>\n",
       "      <th>1</th>\n",
       "      <td>19.5</td>\n",
       "      <td>\"306.5947\"</td>\n",
       "      <td>9.0</td>\n",
       "      <td>42.2</td>\n",
       "    </tr>\n",
       "    <tr>\n",
       "      <th>2</th>\n",
       "      <td>13.3</td>\n",
       "      <td>\"561.9845\"</td>\n",
       "      <td>5.0</td>\n",
       "      <td>47.3</td>\n",
       "    </tr>\n",
       "    <tr>\n",
       "      <th>3</th>\n",
       "      <td>13.3</td>\n",
       "      <td>\"561.9845\"</td>\n",
       "      <td>5.0</td>\n",
       "      <td>54.8</td>\n",
       "    </tr>\n",
       "    <tr>\n",
       "      <th>4</th>\n",
       "      <td>5.0</td>\n",
       "      <td>\"390.5684\"</td>\n",
       "      <td>5.0</td>\n",
       "      <td>43.1</td>\n",
       "    </tr>\n",
       "  </tbody>\n",
       "</table>\n",
       "</div>"
      ],
      "text/plain": [
       "   house_age distance_to_mrt  num_convenience_stores  price_unit_area\n",
       "0       32.0      \"84.87882\"                   100.0             37.9\n",
       "1       19.5      \"306.5947\"                     9.0             42.2\n",
       "2       13.3      \"561.9845\"                     5.0             47.3\n",
       "3       13.3      \"561.9845\"                     5.0             54.8\n",
       "4        5.0      \"390.5684\"                     5.0             43.1"
      ]
     },
     "execution_count": 65,
     "metadata": {},
     "output_type": "execute_result"
    }
   ],
   "source": [
    "selected = [\"lat\", \"long\", \"No\"]\n",
    "\n",
    "# TODO: Drop the selected columns \n",
    "# documentation: https://pandas.pydata.org/docs/reference/api/pandas.DataFrame.drop.html\n",
    "df_drop = df_rename.drop(selected, axis=1)\n",
    "df_drop.head()"
   ]
  },
  {
   "cell_type": "code",
   "execution_count": 55,
   "metadata": {},
   "outputs": [
    {
     "data": {
      "text/html": [
       "<div>\n",
       "<style scoped>\n",
       "    .dataframe tbody tr th:only-of-type {\n",
       "        vertical-align: middle;\n",
       "    }\n",
       "\n",
       "    .dataframe tbody tr th {\n",
       "        vertical-align: top;\n",
       "    }\n",
       "\n",
       "    .dataframe thead th {\n",
       "        text-align: right;\n",
       "    }\n",
       "</style>\n",
       "<table border=\"1\" class=\"dataframe\">\n",
       "  <thead>\n",
       "    <tr style=\"text-align: right;\">\n",
       "      <th></th>\n",
       "      <th>house_age</th>\n",
       "      <th>distance_to_mrt</th>\n",
       "      <th>num_convenience_stores</th>\n",
       "      <th>price_unit_area</th>\n",
       "    </tr>\n",
       "  </thead>\n",
       "  <tbody>\n",
       "    <tr>\n",
       "      <th>0</th>\n",
       "      <td>32.0</td>\n",
       "      <td>84.87882</td>\n",
       "      <td>100.0</td>\n",
       "      <td>37.9</td>\n",
       "    </tr>\n",
       "    <tr>\n",
       "      <th>1</th>\n",
       "      <td>19.5</td>\n",
       "      <td>306.5947</td>\n",
       "      <td>9.0</td>\n",
       "      <td>42.2</td>\n",
       "    </tr>\n",
       "    <tr>\n",
       "      <th>2</th>\n",
       "      <td>13.3</td>\n",
       "      <td>561.9845</td>\n",
       "      <td>5.0</td>\n",
       "      <td>47.3</td>\n",
       "    </tr>\n",
       "    <tr>\n",
       "      <th>3</th>\n",
       "      <td>13.3</td>\n",
       "      <td>561.9845</td>\n",
       "      <td>5.0</td>\n",
       "      <td>54.8</td>\n",
       "    </tr>\n",
       "    <tr>\n",
       "      <th>4</th>\n",
       "      <td>5.0</td>\n",
       "      <td>390.5684</td>\n",
       "      <td>5.0</td>\n",
       "      <td>43.1</td>\n",
       "    </tr>\n",
       "  </tbody>\n",
       "</table>\n",
       "</div>"
      ],
      "text/plain": [
       "   house_age distance_to_mrt  num_convenience_stores  price_unit_area\n",
       "0       32.0        84.87882                   100.0             37.9\n",
       "1       19.5        306.5947                     9.0             42.2\n",
       "2       13.3        561.9845                     5.0             47.3\n",
       "3       13.3        561.9845                     5.0             54.8\n",
       "4        5.0        390.5684                     5.0             43.1"
      ]
     },
     "execution_count": 55,
     "metadata": {},
     "output_type": "execute_result"
    }
   ],
   "source": [
    "# remove quotes from sample\n",
    "df_drop[\"distance_to_mrt\"] = df_drop[\"distance_to_mrt\"].str.strip(\"\\\"\")\n",
    "\n",
    "# TODO: convert the \"distance_to_mrt\" column to the \"float\" datatype\n",
    "# documentation: https://pandas.pydata.org/docs/reference/api/pandas.DataFrame.astype.html\n",
    "df_drop[\"distance_to_mrt\"] = df_drop[\"distance_to_mrt\"].str.strip(\"float\")\n",
    "df_drop.head()"
   ]
  },
  {
   "cell_type": "code",
   "execution_count": 29,
   "metadata": {},
   "outputs": [
    {
     "data": {
      "text/plain": [
       "(414, 4)"
      ]
     },
     "execution_count": 29,
     "metadata": {},
     "output_type": "execute_result"
    }
   ],
   "source": [
    "# check current \"shape\" of dataframe\n",
    "df_drop.shape"
   ]
  },
  {
   "cell_type": "code",
   "execution_count": 34,
   "metadata": {},
   "outputs": [
    {
     "data": {
      "text/plain": [
       "(414, 4)"
      ]
     },
     "execution_count": 34,
     "metadata": {},
     "output_type": "execute_result"
    }
   ],
   "source": [
    "# TODO: Remove missing values from this dataframe\n",
    "# documentation: https://pandas.pydata.org/docs/reference/api/pandas.DataFrame.dropna.html\n",
    "df.dropna(how='all')\n",
    "\n",
    "# check shape again\n",
    "df_drop.shape"
   ]
  },
  {
   "cell_type": "markdown",
   "metadata": {},
   "source": [
    "## Explore Again\n",
    "\n",
    "Now that we've cleaned our dataset, let's again explore the relationships & distributions of our dataset. \n",
    "\n",
    "Perhaps we missed something \"qualitative\" about our data that we should remove. "
   ]
  },
  {
   "cell_type": "code",
   "execution_count": 36,
   "metadata": {},
   "outputs": [
    {
     "data": {
      "text/html": [
       "<div>\n",
       "<style scoped>\n",
       "    .dataframe tbody tr th:only-of-type {\n",
       "        vertical-align: middle;\n",
       "    }\n",
       "\n",
       "    .dataframe tbody tr th {\n",
       "        vertical-align: top;\n",
       "    }\n",
       "\n",
       "    .dataframe thead th {\n",
       "        text-align: right;\n",
       "    }\n",
       "</style>\n",
       "<table border=\"1\" class=\"dataframe\">\n",
       "  <thead>\n",
       "    <tr style=\"text-align: right;\">\n",
       "      <th></th>\n",
       "      <th>No</th>\n",
       "      <th>X2 house age</th>\n",
       "      <th>X3 distance to the nearest MRT station</th>\n",
       "      <th>X4 number of convenience stores</th>\n",
       "      <th>X5 latitude</th>\n",
       "      <th>X6 longitude</th>\n",
       "      <th>Y house price of unit area</th>\n",
       "    </tr>\n",
       "  </thead>\n",
       "  <tbody>\n",
       "    <tr>\n",
       "      <th>count</th>\n",
       "      <td>414.000000</td>\n",
       "      <td>403.000000</td>\n",
       "      <td>414</td>\n",
       "      <td>413.000000</td>\n",
       "      <td>414.000000</td>\n",
       "      <td>414.000000</td>\n",
       "      <td>414.000000</td>\n",
       "    </tr>\n",
       "    <tr>\n",
       "      <th>unique</th>\n",
       "      <td>NaN</td>\n",
       "      <td>NaN</td>\n",
       "      <td>259</td>\n",
       "      <td>NaN</td>\n",
       "      <td>NaN</td>\n",
       "      <td>NaN</td>\n",
       "      <td>NaN</td>\n",
       "    </tr>\n",
       "    <tr>\n",
       "      <th>top</th>\n",
       "      <td>NaN</td>\n",
       "      <td>NaN</td>\n",
       "      <td>\"289.3248\"</td>\n",
       "      <td>NaN</td>\n",
       "      <td>NaN</td>\n",
       "      <td>NaN</td>\n",
       "      <td>NaN</td>\n",
       "    </tr>\n",
       "    <tr>\n",
       "      <th>freq</th>\n",
       "      <td>NaN</td>\n",
       "      <td>NaN</td>\n",
       "      <td>13</td>\n",
       "      <td>NaN</td>\n",
       "      <td>NaN</td>\n",
       "      <td>NaN</td>\n",
       "      <td>NaN</td>\n",
       "    </tr>\n",
       "    <tr>\n",
       "      <th>mean</th>\n",
       "      <td>207.500000</td>\n",
       "      <td>18.607196</td>\n",
       "      <td>NaN</td>\n",
       "      <td>4.283293</td>\n",
       "      <td>24.969030</td>\n",
       "      <td>121.533361</td>\n",
       "      <td>37.980193</td>\n",
       "    </tr>\n",
       "    <tr>\n",
       "      <th>std</th>\n",
       "      <td>119.655756</td>\n",
       "      <td>22.656541</td>\n",
       "      <td>NaN</td>\n",
       "      <td>5.580361</td>\n",
       "      <td>0.012410</td>\n",
       "      <td>0.015347</td>\n",
       "      <td>13.606488</td>\n",
       "    </tr>\n",
       "    <tr>\n",
       "      <th>min</th>\n",
       "      <td>1.000000</td>\n",
       "      <td>0.000000</td>\n",
       "      <td>NaN</td>\n",
       "      <td>-6.000000</td>\n",
       "      <td>24.932070</td>\n",
       "      <td>121.473530</td>\n",
       "      <td>7.600000</td>\n",
       "    </tr>\n",
       "    <tr>\n",
       "      <th>25%</th>\n",
       "      <td>104.250000</td>\n",
       "      <td>8.700000</td>\n",
       "      <td>NaN</td>\n",
       "      <td>1.000000</td>\n",
       "      <td>24.963000</td>\n",
       "      <td>121.528085</td>\n",
       "      <td>27.700000</td>\n",
       "    </tr>\n",
       "    <tr>\n",
       "      <th>50%</th>\n",
       "      <td>207.500000</td>\n",
       "      <td>16.100000</td>\n",
       "      <td>NaN</td>\n",
       "      <td>4.000000</td>\n",
       "      <td>24.971100</td>\n",
       "      <td>121.538630</td>\n",
       "      <td>38.450000</td>\n",
       "    </tr>\n",
       "    <tr>\n",
       "      <th>75%</th>\n",
       "      <td>310.750000</td>\n",
       "      <td>28.300000</td>\n",
       "      <td>NaN</td>\n",
       "      <td>6.000000</td>\n",
       "      <td>24.977455</td>\n",
       "      <td>121.543305</td>\n",
       "      <td>46.600000</td>\n",
       "    </tr>\n",
       "    <tr>\n",
       "      <th>max</th>\n",
       "      <td>414.000000</td>\n",
       "      <td>410.300000</td>\n",
       "      <td>NaN</td>\n",
       "      <td>100.000000</td>\n",
       "      <td>25.014590</td>\n",
       "      <td>121.566270</td>\n",
       "      <td>117.500000</td>\n",
       "    </tr>\n",
       "  </tbody>\n",
       "</table>\n",
       "</div>"
      ],
      "text/plain": [
       "                No  X2 house age X3 distance to the nearest MRT station  \\\n",
       "count   414.000000    403.000000                                    414   \n",
       "unique         NaN           NaN                                    259   \n",
       "top            NaN           NaN                             \"289.3248\"   \n",
       "freq           NaN           NaN                                     13   \n",
       "mean    207.500000     18.607196                                    NaN   \n",
       "std     119.655756     22.656541                                    NaN   \n",
       "min       1.000000      0.000000                                    NaN   \n",
       "25%     104.250000      8.700000                                    NaN   \n",
       "50%     207.500000     16.100000                                    NaN   \n",
       "75%     310.750000     28.300000                                    NaN   \n",
       "max     414.000000    410.300000                                    NaN   \n",
       "\n",
       "        X4 number of convenience stores  X5 latitude  X6 longitude  \\\n",
       "count                        413.000000   414.000000    414.000000   \n",
       "unique                              NaN          NaN           NaN   \n",
       "top                                 NaN          NaN           NaN   \n",
       "freq                                NaN          NaN           NaN   \n",
       "mean                           4.283293    24.969030    121.533361   \n",
       "std                            5.580361     0.012410      0.015347   \n",
       "min                           -6.000000    24.932070    121.473530   \n",
       "25%                            1.000000    24.963000    121.528085   \n",
       "50%                            4.000000    24.971100    121.538630   \n",
       "75%                            6.000000    24.977455    121.543305   \n",
       "max                          100.000000    25.014590    121.566270   \n",
       "\n",
       "        Y house price of unit area  \n",
       "count                   414.000000  \n",
       "unique                         NaN  \n",
       "top                            NaN  \n",
       "freq                           NaN  \n",
       "mean                     37.980193  \n",
       "std                      13.606488  \n",
       "min                       7.600000  \n",
       "25%                      27.700000  \n",
       "50%                      38.450000  \n",
       "75%                      46.600000  \n",
       "max                     117.500000  "
      ]
     },
     "execution_count": 36,
     "metadata": {},
     "output_type": "execute_result"
    }
   ],
   "source": [
    "# TODO: print out the summary statistics (mean, median, max, min, count) of all numeric columns\n",
    "# documentation: https://pandas.pydata.org/docs/reference/api/pandas.DataFrame.describe.html\n",
    "df.describe(include='all')"
   ]
  },
  {
   "cell_type": "code",
   "execution_count": 37,
   "metadata": {},
   "outputs": [
    {
     "data": {
      "text/plain": [
       "(412, 4)"
      ]
     },
     "execution_count": 37,
     "metadata": {},
     "output_type": "execute_result"
    }
   ],
   "source": [
    "# notice how the minimum value for \"num_convenience_stores\" is -6\n",
    "# how do we have -6 convenience stores? this must be an error, let's remove it\n",
    "\n",
    "df_outl = df_drop[df_drop.num_convenience_stores >= 0]\n",
    "df_outl.shape"
   ]
  },
  {
   "cell_type": "code",
   "execution_count": 56,
   "metadata": {},
   "outputs": [
    {
     "data": {
      "text/plain": [
       "(411, 4)"
      ]
     },
     "execution_count": 56,
     "metadata": {},
     "output_type": "execute_result"
    }
   ],
   "source": [
    "# notice how the maximum value for \"num_convenience_stores\" is 100\n",
    "# (the median convenice stores is 4, the mean is 4.29, this shows that this is most likely an error)\n",
    "\n",
    "# TODO: implement this logic in the brackets\n",
    "# documentation: https://pandas.pydata.org/docs/user_guide/indexing.html#boolean-indexing\n",
    "df_outl = df_outl[df_outl[\"num_convenience_stores\"]<100]\n",
    "df_outl.shape"
   ]
  },
  {
   "cell_type": "code",
   "execution_count": 57,
   "metadata": {},
   "outputs": [
    {
     "data": {
      "text/plain": [
       "(400, 4)"
      ]
     },
     "execution_count": 57,
     "metadata": {},
     "output_type": "execute_result"
    }
   ],
   "source": [
    "# notice how the maximum \"house_age\" is 410.3 years old \n",
    "# not looking at statistics, the oldest house in Taiwan was built in the 17th century (300 years at most)\n",
    "# let's remove this value\n",
    "df_outl = df_outl[df_outl.house_age != 410.3]\n",
    "df_outl.shape"
   ]
  },
  {
   "cell_type": "code",
   "execution_count": 11,
   "metadata": {},
   "outputs": [
    {
     "ename": "ValueError",
     "evalue": "'price_unit_area' is not one of the example datasets.",
     "output_type": "error",
     "traceback": [
      "\u001b[0;31m---------------------------------------------------------------------------\u001b[0m",
      "\u001b[0;31mValueError\u001b[0m                                Traceback (most recent call last)",
      "\u001b[1;32m/Users/rsuncin.fellow/Desktop/TKH Projects/2023clean.ipynb Cell 14\u001b[0m line \u001b[0;36m6\n\u001b[1;32m      <a href='vscode-notebook-cell:/Users/rsuncin.fellow/Desktop/TKH%20Projects/2023clean.ipynb#X16sZmlsZQ%3D%3D?line=0'>1</a>\u001b[0m \u001b[39m# let's explore our visualizations again, starting with univariate\u001b[39;00m\n\u001b[1;32m      <a href='vscode-notebook-cell:/Users/rsuncin.fellow/Desktop/TKH%20Projects/2023clean.ipynb#X16sZmlsZQ%3D%3D?line=1'>2</a>\u001b[0m \n\u001b[1;32m      <a href='vscode-notebook-cell:/Users/rsuncin.fellow/Desktop/TKH%20Projects/2023clean.ipynb#X16sZmlsZQ%3D%3D?line=2'>3</a>\u001b[0m \u001b[39m# TODO : plot histogram of \"price_unit_area\" using sns here\u001b[39;00m\n\u001b[1;32m      <a href='vscode-notebook-cell:/Users/rsuncin.fellow/Desktop/TKH%20Projects/2023clean.ipynb#X16sZmlsZQ%3D%3D?line=3'>4</a>\u001b[0m \u001b[39m# documentation: https://seaborn.pydata.org/generated/seaborn.histplot.html\u001b[39;00m\n\u001b[1;32m      <a href='vscode-notebook-cell:/Users/rsuncin.fellow/Desktop/TKH%20Projects/2023clean.ipynb#X16sZmlsZQ%3D%3D?line=4'>5</a>\u001b[0m \u001b[39m.\u001b[39m\u001b[39m.\u001b[39m\u001b[39m.\u001b[39m\n\u001b[0;32m----> <a href='vscode-notebook-cell:/Users/rsuncin.fellow/Desktop/TKH%20Projects/2023clean.ipynb#X16sZmlsZQ%3D%3D?line=5'>6</a>\u001b[0m df \u001b[39m=\u001b[39m sns\u001b[39m.\u001b[39mload_dataset(\u001b[39m\"\u001b[39m\u001b[39mprice_unit_area\u001b[39m\u001b[39m\"\u001b[39m)\n\u001b[1;32m      <a href='vscode-notebook-cell:/Users/rsuncin.fellow/Desktop/TKH%20Projects/2023clean.ipynb#X16sZmlsZQ%3D%3D?line=6'>7</a>\u001b[0m sns\u001b[39m.\u001b[39mhistplot(data\u001b[39m=\u001b[39mdf, y \u001b[39m=\u001b[39m \u001b[39m\"\u001b[39m\u001b[39mprice_unit_area\u001b[39m\u001b[39m\"\u001b[39m)\n\u001b[1;32m      <a href='vscode-notebook-cell:/Users/rsuncin.fellow/Desktop/TKH%20Projects/2023clean.ipynb#X16sZmlsZQ%3D%3D?line=7'>8</a>\u001b[0m plt\u001b[39m.\u001b[39mshow()\n",
      "File \u001b[0;32m~/anaconda3/lib/python3.11/site-packages/seaborn/utils.py:587\u001b[0m, in \u001b[0;36mload_dataset\u001b[0;34m(name, cache, data_home, **kws)\u001b[0m\n\u001b[1;32m    585\u001b[0m \u001b[39mif\u001b[39;00m \u001b[39mnot\u001b[39;00m os\u001b[39m.\u001b[39mpath\u001b[39m.\u001b[39mexists(cache_path):\n\u001b[1;32m    586\u001b[0m     \u001b[39mif\u001b[39;00m name \u001b[39mnot\u001b[39;00m \u001b[39min\u001b[39;00m get_dataset_names():\n\u001b[0;32m--> 587\u001b[0m         \u001b[39mraise\u001b[39;00m \u001b[39mValueError\u001b[39;00m(\u001b[39mf\u001b[39m\u001b[39m\"\u001b[39m\u001b[39m'\u001b[39m\u001b[39m{\u001b[39;00mname\u001b[39m}\u001b[39;00m\u001b[39m'\u001b[39m\u001b[39m is not one of the example datasets.\u001b[39m\u001b[39m\"\u001b[39m)\n\u001b[1;32m    588\u001b[0m     urlretrieve(url, cache_path)\n\u001b[1;32m    589\u001b[0m full_path \u001b[39m=\u001b[39m cache_path\n",
      "\u001b[0;31mValueError\u001b[0m: 'price_unit_area' is not one of the example datasets."
     ]
    }
   ],
   "source": [
    "# let's explore our visualizations again, starting with univariate\n",
    "\n",
    "# TODO : plot histogram of \"price_unit_area\" using sns here\n",
    "# documentation: https://seaborn.pydata.org/generated/seaborn.histplot.html\n",
    "...\n",
    "df = sns.load_dataset(\"price_unit_area\")\n",
    "sns.histplot(data=df, y = \"price_unit_area\")\n",
    "plt.show()"
   ]
  },
  {
   "cell_type": "code",
   "execution_count": 64,
   "metadata": {},
   "outputs": [
    {
     "data": {
      "image/png": "[encoded data removed]",
      "text/plain": [
       "<Figure size 640x480 with 1 Axes>"
      ]
     },
     "metadata": {},
     "output_type": "display_data"
    }
   ],
   "source": [
    "# TODO : plot histogram of \"house_age\" using sns here\n",
    "# documentation: https://seaborn.pydata.org/generated/seaborn.histplot.html\n",
    "...\n",
    "\n"
   ]
  },
  {
   "cell_type": "code",
   "execution_count": null,
   "metadata": {},
   "outputs": [],
   "source": [
    "# TODO : plot histogram of \"num_convenience_stores\" using sns here\n",
    "# documentation: https://seaborn.pydata.org/generated/seaborn.histplot.html\n",
    "...\n"
   ]
  },
  {
   "cell_type": "code",
   "execution_count": 1,
   "metadata": {},
   "outputs": [],
   "source": [
    "# TODO : plot histogram of \"distance_to_mrt\" using sns here\n",
    "# documentation: https://seaborn.pydata.org/generated/seaborn.histplot.html\n",
    "...\n"
   ]
  },
  {
   "cell_type": "code",
   "execution_count": null,
   "metadata": {},
   "outputs": [],
   "source": [
    "# next we move onto scatter-plots (bi-variate analysis)\n",
    "\n",
    "# TODO : plot scatter plot of \"house_age\" and \"price_unit_area\"\n",
    "# documentation: https://seaborn.pydata.org/generated/seaborn.scatterplot.html\n",
    "...\n"
   ]
  },
  {
   "cell_type": "code",
   "execution_count": null,
   "metadata": {},
   "outputs": [],
   "source": [
    "# TODO : plot scatter plot of \"num_convenice_stores\" and \"price_unit_area\"\n",
    "# documentation: https://seaborn.pydata.org/generated/seaborn.scatterplot.html\n",
    "..."
   ]
  },
  {
   "cell_type": "code",
   "execution_count": null,
   "metadata": {},
   "outputs": [],
   "source": [
    "# TODO : plot scatter plot of \"distance_to_mrt\" and \"price_unit_area\"\n",
    "# documentation: https://seaborn.pydata.org/generated/seaborn.scatterplot.html\n",
    "..."
   ]
  },
  {
   "cell_type": "code",
   "execution_count": 68,
   "metadata": {},
   "outputs": [
    {
     "name": "stderr",
     "output_type": "stream",
     "text": [
      "C:\\Users\\saidmf\\AppData\\Local\\Temp\\ipykernel_13920\\4107131777.py:1: DeprecationWarning: `np.bool` is a deprecated alias for the builtin `bool`. To silence this warning, use `bool` by itself. Doing this will not modify any behavior and is safe. If you specifically wanted the numpy scalar type, use `np.bool_` here.\n",
      "Deprecated in NumPy 1.20; for more details and guidance: https://numpy.org/devdocs/release/1.20.0-notes.html#deprecations\n",
      "  mask = np.triu(np.ones_like(df_outl.corr(), dtype=np.bool))\n"
     ]
    },
    {
     "data": {
      "image/png": "[encoded data removed]",
      "text/plain": [
       "<Figure size 432x288 with 2 Axes>"
      ]
     },
     "metadata": {
      "needs_background": "light"
     },
     "output_type": "display_data"
    }
   ],
   "source": [
    "mask = np.triu(np.ones_like(df_outl.corr(), dtype=np.bool))\n",
    "\n",
    "sns.heatmap(df_outl.corr(), annot=True, mask=mask)\n",
    "plt.show()"
   ]
  },
  {
   "cell_type": "code",
   "execution_count": 69,
   "metadata": {},
   "outputs": [],
   "source": [
    "# save data for later modeling\n",
    "df_drop.to_csv(\"../../data/processed/tpdata.csv\", index=False)"
   ]
  }
 ],
 "metadata": {
  "kernelspec": {
   "display_name": "Python 3",
   "language": "python",
   "name": "python3"
  },
  "language_info": {
   "codemirror_mode": {
    "name": "ipython",
    "version": 3
   },
   "file_extension": ".py",
   "mimetype": "text/x-python",
   "name": "python",
   "nbconvert_exporter": "python",
   "pygments_lexer": "ipython3",
   "version": "3.11.5"
  },
  "orig_nbformat": 4
 },
 "nbformat": 4,
 "nbformat_minor": 2
}
